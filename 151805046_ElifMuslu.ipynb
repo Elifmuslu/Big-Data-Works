{
 "cells": [
  {
   "cell_type": "code",
   "execution_count": 2,
   "metadata": {},
   "outputs": [],
   "source": [
    "import socket"
   ]
  },
  {
   "cell_type": "code",
   "execution_count": 4,
   "metadata": {},
   "outputs": [
    {
     "name": "stdout",
     "output_type": "stream",
     "text": [
      "Name of the localhost is DESKTOP-BGUQE12\n"
     ]
    }
   ],
   "source": [
    "myHostName = socket.gethostname()\n",
    "\n",
    "print(\"Name of the localhost is {}\".format(myHostName))"
   ]
  },
  {
   "cell_type": "code",
   "execution_count": 5,
   "metadata": {},
   "outputs": [
    {
     "name": "stdout",
     "output_type": "stream",
     "text": [
      "IP address of the localhost is 192.168.43.3\n"
     ]
    }
   ],
   "source": [
    "myIP = socket.gethostbyname(myHostName)\n",
    "\n",
    "print(\"IP address of the localhost is {}\".format(myIP))"
   ]
  },
  {
   "cell_type": "code",
   "execution_count": 10,
   "metadata": {
    "scrolled": false
   },
   "outputs": [],
   "source": [
    "import findspark\n",
    "findspark.init()"
   ]
  },
  {
   "cell_type": "code",
   "execution_count": 12,
   "metadata": {},
   "outputs": [],
   "source": [
    "from pyspark import SparkContext\n",
    "from pyspark import SparkConf"
   ]
  },
  {
   "cell_type": "code",
   "execution_count": 15,
   "metadata": {},
   "outputs": [],
   "source": [
    "conf = SparkConf().setAppName(\"151805046_ElifMuslu\")\n",
    "sc = SparkContext(conf=conf)"
   ]
  },
  {
   "cell_type": "code",
   "execution_count": 30,
   "metadata": {
    "scrolled": true
   },
   "outputs": [
    {
     "data": {
      "text/plain": [
       "9"
      ]
     },
     "execution_count": 30,
     "metadata": {},
     "output_type": "execute_result"
    }
   ],
   "source": [
    "rdd=sc.textFile(\"C:\\\\Users\\\\ITU\\Desktop\\\\151805046_ElifMuslu_Assignment1\\\\151805046_Elif_46.txt\")\n",
    "rdd.count()"
   ]
  },
  {
   "cell_type": "code",
   "execution_count": 70,
   "metadata": {},
   "outputs": [],
   "source": [
    "words=rdd.flatMap(lambda line: line.split(\" \"))\n",
    "wordCounts = words.map(lambda word: (word,1)).reduceByKey(lambda a,b:a +b)\n",
    "wordCounts.saveAsTextFile(\"151805046_output/\")"
   ]
  },
  {
   "cell_type": "code",
   "execution_count": 71,
   "metadata": {},
   "outputs": [
    {
     "name": "stdout",
     "output_type": "stream",
     "text": [
      "('recursion', 4)\n",
      "('never', 2)\n",
      "('case,', 1)\n",
      "('goes', 1)\n",
      "('making', 1)\n",
      "('calls', 1)\n",
      "('terminates.', 1)\n",
      "('is', 4)\n",
      "('known', 1)\n",
      "('as', 2)\n",
      "('inﬁnite', 2)\n",
      "('good', 1)\n",
      "('idea.', 1)\n",
      "('an', 2)\n",
      "('recurse():', 1)\n",
      "('forever.', 1)\n",
      "('Python', 2)\n",
      "('when', 1)\n",
      "('depth', 2)\n",
      "('\"<stdin>\",', 4)\n",
      "('line', 4)\n",
      "('in', 5)\n",
      "('recurse', 5)\n",
      "('', 1)\n",
      "('RuntimeError:', 1)\n",
      "('there', 1)\n",
      "('are', 4)\n",
      "('Keyboard', 1)\n",
      "('input', 3)\n",
      "('The', 1)\n",
      "('programs', 1)\n",
      "('we', 1)\n",
      "('have', 1)\n",
      "('far', 1)\n",
      "('no', 1)\n",
      "('They', 1)\n",
      "('just', 1)\n",
      "('do', 1)\n",
      "('provides', 1)\n",
      "('raw_input', 2)\n",
      "('InPython3,itiscalledinput.', 1)\n",
      "('Whenthisfunctioniscalled,theprogramstopsandwaitsfor', 1)\n",
      "('type', 1)\n",
      "('something.', 1)\n",
      "('When', 1)\n",
      "('Enter,', 1)\n",
      "('resumes', 1)\n",
      "('returns', 1)\n",
      "('typed', 1)\n",
      "('string.', 1)\n",
      "('=', 1)\n",
      "('What', 2)\n",
      "('waiting', 2)\n",
      "('print', 1)\n",
      "('Inﬁnite', 1)\n",
      "('If', 1)\n",
      "('a', 7)\n",
      "('reaches', 1)\n",
      "('base', 1)\n",
      "('it', 2)\n",
      "('on', 2)\n",
      "('recursive', 1)\n",
      "('forever,', 1)\n",
      "('and', 3)\n",
      "('the', 11)\n",
      "('program', 3)\n",
      "('This', 1)\n",
      "('recursion,', 1)\n",
      "('generally', 1)\n",
      "('not', 1)\n",
      "('Here', 1)\n",
      "('minimal', 1)\n",
      "('with', 1)\n",
      "('recursion:', 1)\n",
      "('def', 1)\n",
      "('recurse()', 1)\n",
      "('Inmostprogrammingenvironments,aprogramwithinﬁniterecursiondoesnotreallyrun', 1)\n",
      "('reports', 1)\n",
      "('error', 1)\n",
      "('message', 1)\n",
      "('maximum', 1)\n",
      "('reached:', 1)\n",
      "('File', 4)\n",
      "('2,', 4)\n",
      "('Maximum', 1)\n",
      "('exceeded', 1)\n",
      "('Thistracebackisalittlebiggerthantheonewesawinthepreviouschapter.', 1)\n",
      "('Whentheerror', 1)\n",
      "('occurs,', 1)\n",
      "('1000', 1)\n",
      "('frames', 1)\n",
      "('stack!', 1)\n",
      "('5.11', 1)\n",
      "('written', 1)\n",
      "('so', 1)\n",
      "('bit', 1)\n",
      "('rude', 1)\n",
      "('sense', 1)\n",
      "('that', 2)\n",
      "('they', 1)\n",
      "('accept', 1)\n",
      "('from', 2)\n",
      "('user.', 1)\n",
      "('same', 1)\n",
      "('thing', 1)\n",
      "('every', 1)\n",
      "('time.', 1)\n",
      "('2', 1)\n",
      "('built-in', 1)\n",
      "('function', 1)\n",
      "('called', 1)\n",
      "('gets', 1)\n",
      "('keyboard.', 1)\n",
      "('user', 3)\n",
      "('to', 1)\n",
      "('presses', 1)\n",
      "('Return', 1)\n",
      "('or', 1)\n",
      "('what', 1)\n",
      "('>>>', 2)\n",
      "('text', 2)\n",
      "('raw_input()', 1)\n",
      "('you', 2)\n",
      "('for?', 2)\n"
     ]
    }
   ],
   "source": [
    "for i in wordCounts.collect():\n",
    "    print(i)"
   ]
  },
  {
   "cell_type": "code",
   "execution_count": null,
   "metadata": {},
   "outputs": [],
   "source": []
  },
  {
   "cell_type": "code",
   "execution_count": null,
   "metadata": {},
   "outputs": [],
   "source": []
  },
  {
   "cell_type": "code",
   "execution_count": null,
   "metadata": {},
   "outputs": [],
   "source": []
  },
  {
   "cell_type": "code",
   "execution_count": null,
   "metadata": {},
   "outputs": [],
   "source": []
  }
 ],
 "metadata": {
  "kernelspec": {
   "display_name": "Python 3",
   "language": "python",
   "name": "python3"
  },
  "language_info": {
   "codemirror_mode": {
    "name": "ipython",
    "version": 3
   },
   "file_extension": ".py",
   "mimetype": "text/x-python",
   "name": "python",
   "nbconvert_exporter": "python",
   "pygments_lexer": "ipython3",
   "version": "3.7.1"
  }
 },
 "nbformat": 4,
 "nbformat_minor": 2
}
